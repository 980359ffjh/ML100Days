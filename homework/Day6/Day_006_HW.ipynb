version https://git-lfs.github.com/spec/v1
oid sha256:52adadc74a005d58973700daef34571fef7c5311b31a5491f0d2476661fe5b58
size 9068
