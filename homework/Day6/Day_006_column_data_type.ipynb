version https://git-lfs.github.com/spec/v1
oid sha256:2f20d91e7bf83c8de881a60100e8e1f649e8a3ab69ae0b59203b1e17577be2b2
size 10144
